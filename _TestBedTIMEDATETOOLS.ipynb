{
 "cells": [
  {
   "cell_type": "code",
   "execution_count": 1,
   "metadata": {
    "pycharm": {
     "is_executing": false
    }
   },
   "outputs": [
    {
     "ename": "ModuleNotFoundError",
     "evalue": "No module named '_GUTILS._TIME_DATE_TOOLS'",
     "output_type": "error",
     "traceback": [
      "\u001b[1;31m---------------------------------------------------------------------------\u001b[0m",
      "\u001b[1;31mModuleNotFoundError\u001b[0m                       Traceback (most recent call last)",
      "\u001b[1;32m<ipython-input-1-1876ce2ff621>\u001b[0m in \u001b[0;36m<module>\u001b[1;34m\u001b[0m\n\u001b[1;32m----> 1\u001b[1;33m \u001b[1;32mfrom\u001b[0m \u001b[0m_GUTILS\u001b[0m\u001b[1;33m.\u001b[0m\u001b[0m_TIME_DATE_TOOLS\u001b[0m \u001b[1;32mimport\u001b[0m \u001b[1;33m*\u001b[0m\u001b[1;33m\u001b[0m\u001b[1;33m\u001b[0m\u001b[0m\n\u001b[0m\u001b[0;32m      2\u001b[0m \u001b[1;33m\u001b[0m\u001b[0m\n\u001b[0;32m      3\u001b[0m \u001b[1;33m\u001b[0m\u001b[0m\n\u001b[0;32m      4\u001b[0m \u001b[0mdatestrmdy\u001b[0m \u001b[1;33m=\u001b[0m \u001b[1;34m\"05.27.2021\"\u001b[0m\u001b[1;33m\u001b[0m\u001b[1;33m\u001b[0m\u001b[0m\n\u001b[0;32m      5\u001b[0m \u001b[0mdatestrymd\u001b[0m \u001b[1;33m=\u001b[0m \u001b[1;34m\"2021/05/26\"\u001b[0m\u001b[1;33m\u001b[0m\u001b[1;33m\u001b[0m\u001b[0m\n",
      "\u001b[1;31mModuleNotFoundError\u001b[0m: No module named '_GUTILS._TIME_DATE_TOOLS'"
     ]
    }
   ],
   "source": [
    "from _GUTILS._TIME_DATE_TOOLS import *\n",
    "\n",
    "\n",
    "datestrmdy = \"05.27.2021\"\n",
    "datestrymd = \"2021/05/26\"\n",
    "delim = '-'\n",
    "\n",
    "now = time.time()\n",
    "\n",
    "\n",
    "\n",
    "current_time_hms_epochmdy = convert_mdy_epoch(datestrmdy, delim=None)\n",
    "\n",
    "current_time_hms_epochymd = convert_ymd_epoch(datestrymd, )\n",
    "\n",
    "print(\"epoch: {}\".format(now))\n",
    "print(\"mdy:{} as epoch time: {}\".format(datestrmdy, current_time_hms_epochmdy))\n",
    "print(\"ymd:{} as epoch time: {}\".format(datestrymd, current_time_hms_epochymd))\n"
   ]
  },
  {
   "cell_type": "code",
   "execution_count": null,
   "metadata": {},
   "outputs": [],
   "source": [
    "get_delim(datestrymd )"
   ]
  },
  {
   "cell_type": "code",
   "execution_count": null,
   "metadata": {},
   "outputs": [],
   "source": [
    "datestr1 = datestrmdy\n",
    "datestr2 = datestrymd\n",
    "date2 = \"\"\n",
    "formstr1 = \"%m.%d.%y\"\n",
    "get_date_str_dif(datestr1, datestr2, division=3600)"
   ]
  },
  {
   "cell_type": "code",
   "execution_count": null,
   "metadata": {},
   "outputs": [],
   "source": [
    "dayT1 = convert_datestr_datetime(datestrmdy, getdelim=True)\n",
    "dayT2 = convert_datestr_datetime(datestrymd, getdelim=True)\n",
    "print(\"Day1: {}\".format(dayT1))\n",
    "print(\"Day2: {}\".format(dayT2))\n",
    "\n",
    "print(check_dates(dayT1, dayT2, cmp='ge'))\n",
    "print(check_dates(dayT1, dayT2, cmp='geq'))\n",
    "print(check_dates(dayT1, dayT2, cmp='le'))\n",
    "print(check_dates(dayT1, dayT2, cmp='leq'))\n",
    "print(check_dates(dayT1, dayT2, cmp='eq'))\n",
    "print(check_dates(dayT1, dayT2, cmp='neq'))"
   ]
  },
  {
   "cell_type": "code",
   "execution_count": null,
   "metadata": {},
   "outputs": [],
   "source": [
    "adjust_mmddyy_hms(mmddyy_hms=\"2021/05/26 13:05:00\", delims=None, returnform=False)"
   ]
  },
  {
   "cell_type": "code",
   "execution_count": null,
   "metadata": {},
   "outputs": [],
   "source": [
    "datetime.datetime.strptime(\"21/05/26\", \"%y/%m/%d\").timestamp()"
   ]
  },
  {
   "cell_type": "code",
   "execution_count": null,
   "metadata": {},
   "outputs": [],
   "source": [
    "import re\n",
    "tss = \"bob_do_WAN\"\n",
    "tss.find(\"Q\")\n",
    "tss2 = \"2021/05/22 12:11:04:02\"\n",
    "tss3 = \"2021/05/22\"\n",
    "\n",
    "#span_match = re.search(r\"\\d\\w+\\d:\\d\", tss2)\n",
    "#print(\"found: {}::\".format(span_match.group().strip()))\n",
    "#print(span_match.string)\n",
    "#print(span_match.span())\n",
    "#print(re.search(r\".*/.* \", tss2))\n"
   ]
  },
  {
   "cell_type": "code",
   "execution_count": null,
   "metadata": {},
   "outputs": [],
   "source": [
    "# lets play with the file names\n",
    "fn1 = \"20210401_16302405.tdms\"\n",
    "\n",
    "\n",
    "\n",
    "\n",
    "\n",
    "file_datestr = get_datastr_from_filename(fn1)\n",
    "\n",
    "ddt = convert_datestr_datetime(file_datestr, getdelim=False, delim='', form=\"%Y-%m-%d %H:%M:%S:%MS\")\n",
    "print(datetime.datetime.strftime(ddt, \"%y-%m-%d %H:%M:%S:%f\"))\n",
    "dateObj = datetime.datetime.strftime(ddt, \"%y-%m-%d %H:%M:%S:%f\")\n",
    "display(get_datestr(ddt, formatstr=\"%y-%m-%d %H:%M:%S:%f\"))"
   ]
  },
  {
   "cell_type": "code",
   "execution_count": null,
   "metadata": {},
   "outputs": [],
   "source": []
  }
 ],
 "metadata": {
  "kernelspec": {
   "display_name": "Python 3",
   "language": "python",
   "name": "python3"
  },
  "language_info": {
   "codemirror_mode": {
    "name": "ipython",
    "version": 3
   },
   "file_extension": ".py",
   "mimetype": "text/x-python",
   "name": "python",
   "nbconvert_exporter": "python",
   "pygments_lexer": "ipython3",
   "version": "3.7.4"
  },
  "pycharm": {
   "stem_cell": {
    "cell_type": "raw",
    "metadata": {
     "collapsed": false
    },
    "source": []
   }
  }
 },
 "nbformat": 4,
 "nbformat_minor": 1
}
