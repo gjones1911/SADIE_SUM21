{
 "cells": [
  {
   "cell_type": "markdown",
   "metadata": {},
   "source": [
    "# Docker Tutorial: Installing, creating containers, running images\n",
    "\n",
    "> What is a Docker?\n",
    "    > From [Docker Python Tutorials](https://realpython.com/tutorials/docker/#:~:text=Docker%20is%20a%20containerization%20tool%20used%20for%20spinning,to%20deploy%20applications%20locally%20and%20to%20the%20cloud.):\n",
    "   * \"Docker is a containerization tool used for spinning up isolated, reproducible application environments. It is a popular development tool for Python developers.\"\n",
    "\n",
    "> This notebook will hopefully help you install and start using images and containers with Docker. At the end are some other helpful resources I found when going through the process The first step is to install the version you need. "
   ]
  },
  {
   "cell_type": "markdown",
   "metadata": {},
   "source": [
    "# Python Docker Tutorials\n",
    "1. Download the version you need\n",
    "    * \n"
   ]
  },
  {
   "cell_type": "code",
   "execution_count": null,
   "metadata": {},
   "outputs": [],
   "source": []
  },
  {
   "cell_type": "markdown",
   "metadata": {},
   "source": [
    "# Online Resources\n",
    "\n",
    "## 1. Download the version you need\n",
    "\n",
    "* [Docker Page](https://www.docker.com/)\n",
    "\n",
    "### For windows you need to install and activate wsl, wsl2 and the virtual machine \n",
    "\n",
    "* [Docker Desktop Windows](https://www.docker.com/products/docker-desktop)\n",
    "    > For windows you need a few other pieces of software and some extra steps to get started\n",
    "    * You will need windows [powershell](https://docs.microsoft.com/en-us/windows-server/administration/windows-commands/powershell#:~:text=Windows%20PowerShell%20is%20a%20task-based%20command-line%20shell%20and,operating%20system%20and%20applications%20that%20run%20on%20Windows.)\n",
    "    * You will need to activate/install [wls for Windows](https://docs.microsoft.com/en-us/windows/wsl/install-win10) (windows subsystem for linux)\n",
    "        * Open PowerShell as Administrator and run: \n",
    "            * hit the windows button\n",
    "            * search for powershell\n",
    "            * right, click and click run as administrator\n",
    "            * in the powershell command line enter the following commands:\n",
    "                * (enable wsl) dism.exe /online /enable-feature /featurename:Microsoft-Windows-Subsystem-Linux /all /norestart\n",
    "                * (enable wsl2/VM) dism.exe /online /enable-feature /featurename:VirtualMachinePlatform /all /norestart\n",
    "                * (set wsl2 as default) wsl --set-default-version 2\n",
    "        * You will also need to download and install some capatable version of Linux I suggest ubuntu \n",
    "            * [microsoft store link](https://aka.ms/wslstore)\n",
    "        * now you can download and install the the docker version for windows linked above\n",
    "            \n",
    "    \n",
    "* [Docker Desktop Mac](https://hub.docker.com/editions/community/docker-ce-desktop-mac?utm_source=docker&utm_medium=webreferral&utm_campaign=dd-smartbutton&utm_location=header)\n",
    "* [Docker Desktop Linux](https://hub.docker.com/search?offering=community&operating_system=linux&q=&type=edition)\n",
    "* [python docker tutorials](https://realpython.com/tutorials/docker/#:~:text=Docker%20is%20a%20containerization%20tool%20used%20for%20spinning,to%20deploy%20applications%20locally%20and%20to%20the%20cloud.)"
   ]
  },
  {
   "cell_type": "markdown",
   "metadata": {},
   "source": [
    "# Docker Image Resources:\n",
    "> Docker images are very easy to get you just run a simple command on the command line of your linux/powershell and it will download and create an image for you. For the images I have linked to and given commands you must first start the docker desktop. You downloaded from the steps above. Once you have started the docker you can run these commands and you will then seen them in the docker desktop interface. You can turn them off and on from there. \n",
    "\n",
    "* Grafana images:\n",
    "    * docker run -d -p 3000:3000 grafana/grafana\n",
    "        -d: run in background\n",
    "        -p: set port\n",
    "        3000:3000 sets the port that this image will use to be 3000\n",
    "        grafana/grafana says to load the basic grafana image\n",
    "        \n",
    "* Prometheus images:\n",
    "* mysql images:\n",
    "* influxdb images:"
   ]
  }
 ],
 "metadata": {
  "kernelspec": {
   "display_name": "Python 3",
   "language": "python",
   "name": "python3"
  },
  "language_info": {
   "codemirror_mode": {
    "name": "ipython",
    "version": 3
   },
   "file_extension": ".py",
   "mimetype": "text/x-python",
   "name": "python",
   "nbconvert_exporter": "python",
   "pygments_lexer": "ipython3",
   "version": "3.7.4"
  }
 },
 "nbformat": 4,
 "nbformat_minor": 4
}
