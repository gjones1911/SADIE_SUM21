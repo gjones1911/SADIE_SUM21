{
 "cells": [
  {
   "cell_type": "markdown",
   "metadata": {},
   "source": [
    "* [mysql and csv](https://www.mysqltutorial.org/import-csv-file-mysql-table/)\n",
    "* [mysql and csv](https://python.plainenglish.io/how-to-import-a-csv-file-into-a-mysql-database-using-python-script-791b051c5c33)\n",
    "* [mysql and csv bulk](https://phoenixnap.com/kb/import-csv-file-into-mysql)\n",
    "* [mysql](https://www.mysqltutorial.org/import-csv-file-mysql-table/)"
   ]
  }
 ],
 "metadata": {
  "kernelspec": {
   "display_name": "Python 3",
   "language": "python",
   "name": "python3"
  },
  "language_info": {
   "codemirror_mode": {
    "name": "ipython",
    "version": 3
   },
   "file_extension": ".py",
   "mimetype": "text/x-python",
   "name": "python",
   "nbconvert_exporter": "python",
   "pygments_lexer": "ipython3",
   "version": "3.7.4"
  }
 },
 "nbformat": 4,
 "nbformat_minor": 4
}
